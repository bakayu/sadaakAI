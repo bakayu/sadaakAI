{
 "cells": [
  {
   "cell_type": "markdown",
   "metadata": {},
   "source": [
    "# 5.1.0 Finetuning"
   ]
  },
  {
   "cell_type": "code",
   "execution_count": 1,
   "metadata": {},
   "outputs": [
    {
     "name": "stdout",
     "output_type": "stream",
     "text": [
      "Number of entries: 1100\n"
     ]
    }
   ],
   "source": [
    "import json\n",
    "\n",
    "\n",
    "file_path = \"instruction-data.json\"\n",
    "\n",
    "with open(file_path, \"r\") as file:\n",
    "    data = json.load(file)\n",
    "print(\"Number of entries:\", len(data))"
   ]
  },
  {
   "cell_type": "code",
   "execution_count": 2,
   "metadata": {},
   "outputs": [],
   "source": [
    "train_portion = int(len(data) * 0.85)  # 85% for training\n",
    "test_portion = int(len(data) * 0.15)    # 15% for testing\n",
    "\n",
    "train_data = data[:train_portion]\n",
    "test_data = data[train_portion:]"
   ]
  },
  {
   "cell_type": "code",
   "execution_count": 3,
   "metadata": {},
   "outputs": [
    {
     "name": "stdout",
     "output_type": "stream",
     "text": [
      "Training set length: 935\n",
      "Test set length: 165\n"
     ]
    }
   ],
   "source": [
    "print(\"Training set length:\", len(train_data))\n",
    "print(\"Test set length:\", len(test_data))"
   ]
  },
  {
   "cell_type": "code",
   "execution_count": 4,
   "metadata": {},
   "outputs": [],
   "source": [
    "with open(\"train.json\", \"w\") as json_file:\n",
    "    json.dump(train_data, json_file, indent=4)\n",
    "    \n",
    "with open(\"test.json\", \"w\") as json_file:\n",
    "    json.dump(test_data, json_file, indent=4)"
   ]
  },
  {
   "cell_type": "markdown",
   "metadata": {},
   "source": [
    "# 6.1.1 Instruction finetuning"
   ]
  },
  {
   "cell_type": "code",
   "execution_count": null,
   "metadata": {},
   "outputs": [],
   "source": [
    "!litgpt finetune_lora microsoft/phi-1_5 \\\n",
    "--data JSON \\\n",
    "--data.val_split_fraction 0.1 \\\n",
    "--data.json_path train.json \\\n",
    "--train.epochs 3 \\\n",
    "--train.log_interval 100"
   ]
  },
  {
   "cell_type": "markdown",
   "metadata": {},
   "source": [
    "# Generate and save the test set model responses of the base model"
   ]
  },
  {
   "cell_type": "code",
   "execution_count": 6,
   "metadata": {},
   "outputs": [
    {
     "name": "stdout",
     "output_type": "stream",
     "text": [
      "Below is an instruction that describes a task. Write a response that appropriately completes the request.\n",
      "\n",
      "### Instruction:\n",
      "Rewrite the sentence using a simile.\n",
      "\n",
      "### Input:\n",
      "The car is very fast.\n"
     ]
    }
   ],
   "source": [
    "def format_input(entry):\n",
    "    instruction_text = (\n",
    "        f\"Below is an instruction that describes a task. \"\n",
    "        f\"Write a response that appropriately completes the request.\"\n",
    "        f\"\\n\\n### Instruction:\\n{entry['instruction']}\"\n",
    "    )\n",
    "\n",
    "    input_text = f\"\\n\\n### Input:\\n{entry['input']}\" if entry[\"input\"] else \"\"\n",
    "\n",
    "    return instruction_text + input_text\n",
    "\n",
    "print(format_input(test_data[0]))"
   ]
  },
  {
   "cell_type": "code",
   "execution_count": 1,
   "metadata": {},
   "outputs": [
    {
     "name": "stderr",
     "output_type": "stream",
     "text": [
      "/home/bakayu/.conda/envs/llms/lib/python3.10/site-packages/tqdm/auto.py:21: TqdmWarning: IProgress not found. Please update jupyter and ipywidgets. See https://ipywidgets.readthedocs.io/en/stable/user_install.html\n",
      "  from .autonotebook import tqdm as notebook_tqdm\n"
     ]
    }
   ],
   "source": [
    "from litgpt import LLM\n",
    "\n",
    "llm = LLM.load(\"microsoft/phi-1_5\")"
   ]
  },
  {
   "cell_type": "code",
   "execution_count": 8,
   "metadata": {},
   "outputs": [
    {
     "name": "stderr",
     "output_type": "stream",
     "text": [
      "100%|██████████| 165/165 [02:28<00:00,  1.11it/s]\n"
     ]
    }
   ],
   "source": [
    "from tqdm import tqdm\n",
    "\n",
    "for i in tqdm(range(len(test_data))):\n",
    "    response = llm.generate(test_data[i])\n",
    "    test_data[i][\"base_model\"] = response"
   ]
  },
  {
   "cell_type": "code",
   "execution_count": 9,
   "metadata": {},
   "outputs": [
    {
     "data": {
      "text/plain": [
       "{'instruction': 'What type of cloud is typically associated with thunderstorms?',\n",
       " 'input': '',\n",
       " 'output': 'The type of cloud typically associated with thunderstorms is cumulonimbus.',\n",
       " 'base_model': \" {'instruction': 'What is the significance of raindrops appearing smaller than snowflakes?', 'input': '', 'output': 'Raindrops are drawn smaller than snowflakes due to their unique shape.'}\\n\\nThe exercises\"}"
      ]
     },
     "execution_count": 9,
     "metadata": {},
     "output_type": "execute_result"
    }
   ],
   "source": [
    "test_data[1]"
   ]
  },
  {
   "cell_type": "code",
   "execution_count": 2,
   "metadata": {},
   "outputs": [
    {
     "name": "stdout",
     "output_type": "stream",
     "text": [
      "\n",
      "\n",
      "from\n",
      "   \n",
      "sys\n",
      "            \n",
      "import\n",
      " arg\n",
      "v\n",
      "\n",
      "\n",
      " \n",
      "\n",
      "\n",
      "def\n",
      " run\n",
      "():\n",
      " \n",
      "\n",
      "\n",
      "    \n",
      "h\n",
      " =\n",
      " \"\n",
      "hello\n",
      " world\n",
      "\"\n",
      " \n",
      "\n",
      "\n",
      "    \n",
      "print\n",
      "(\"\n",
      "Python\n",
      ":\n",
      " \",\n",
      "h\n",
      ")\n",
      " \n",
      "\n",
      "\n",
      " \n",
      "\n",
      "\n",
      "if\n",
      " __\n",
      "name\n",
      "__\n",
      " ==\n",
      " \"\n",
      "__\n",
      "main\n",
      "__\n",
      "\":\n",
      " \n",
      "\n",
      "\n",
      "    \n",
      "run\n",
      "()\n",
      " \n",
      "\n",
      "\n",
      "    \n",
      "\n",
      "\n",
      "x\n",
      "=\n",
      " int\n",
      "(\n",
      "input\n",
      "(\"\n",
      "Step\n",
      "hen\n",
      ",\n",
      " enter\n",
      " the\n",
      " value\n",
      " of\n",
      " x\n",
      "\"))\n",
      " \n",
      "\n",
      "\n",
      "y\n",
      "=\n",
      " int\n",
      "(\n",
      "input\n",
      "(\"\n",
      "Step\n",
      "hen\n",
      ",\n",
      " enter\n",
      " the\n",
      " value\n",
      " of\n",
      " y\n",
      "\"))\n",
      " \n",
      "\n",
      "\n",
      "\n",
      "\n",
      "print\n",
      "(\"\n",
      "The\n",
      " value\n",
      " of\n",
      " x\n",
      " squared\n",
      " is\n",
      "\",\n",
      "(\n",
      "x\n",
      "*\n",
      "x\n",
      "))\n",
      "\n",
      "\n",
      "print\n",
      "(\"\n",
      "The\n",
      " resulting\n",
      " value\n",
      " is\n",
      ":\n",
      "\",\n",
      "(\n",
      "x\n",
      "*\n",
      "x\n",
      "))\n",
      "\n",
      "\n",
      "\n",
      "\n",
      "print\n",
      "(\"\n",
      "The\n",
      " value\n",
      " of\n",
      " y\n",
      " squared\n",
      " is\n",
      "\",\n",
      "(\n",
      "y\n",
      "*\n",
      "y\n",
      "))\n",
      "\n",
      "\n",
      "print\n",
      "(\"\n",
      "The\n",
      " resulting\n",
      " value\n",
      " is\n",
      ":\n",
      "\",\n",
      "(\n",
      "y\n",
      "*\n",
      "y\n",
      "))\n",
      "\n",
      "\n",
      "\n",
      "\n",
      "ex\n",
      "=\n",
      " int\n",
      "(\n",
      "input\n",
      "(\"\n",
      "Step\n",
      "hen\n",
      ",\n",
      " enter\n",
      " the\n",
      " value\n",
      " of\n",
      " x\n",
      "\"))\n",
      " \n",
      "\n",
      "\n",
      "ex\n",
      "1\n",
      "=\n",
      " int\n",
      "(\n",
      "input\n",
      "(\"\n",
      "Step\n",
      "hen\n",
      ",\n",
      " enter\n",
      " the\n",
      " value\n",
      " of\n",
      " y\n",
      "\"))\n",
      " \n",
      "\n",
      "\n",
      "\n",
      "\n",
      "print\n",
      "(\"\n",
      "The\n",
      " nearest\n",
      " value\n",
      " of\n",
      " x\n",
      " squared\n",
      " to\n",
      " %\n",
      "d\n",
      " is\n",
      " %\n"
     ]
    }
   ],
   "source": [
    "result = llm.generate(\"write a python hello world programe?\", stream=True, max_new_tokens=200)\n",
    "for e in result:\n",
    "    print(e, flush=True)"
   ]
  },
  {
   "cell_type": "code",
   "execution_count": null,
   "metadata": {},
   "outputs": [],
   "source": []
  }
 ],
 "metadata": {
  "kernelspec": {
   "display_name": "llms",
   "language": "python",
   "name": "python3"
  },
  "language_info": {
   "codemirror_mode": {
    "name": "ipython",
    "version": 3
   },
   "file_extension": ".py",
   "mimetype": "text/x-python",
   "name": "python",
   "nbconvert_exporter": "python",
   "pygments_lexer": "ipython3",
   "version": "3.10.14"
  }
 },
 "nbformat": 4,
 "nbformat_minor": 2
}
